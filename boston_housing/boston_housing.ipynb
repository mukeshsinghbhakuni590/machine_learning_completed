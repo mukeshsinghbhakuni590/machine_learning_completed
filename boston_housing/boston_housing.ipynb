{
 "cells": [
  {
   "cell_type": "markdown",
   "metadata": {},
   "source": [
    "# Machine Learning Engineer Nanodegree\n",
    "## Model Evaluation & Validation\n",
    "## Project: Predicting Boston Housing Prices\n",
    "\n",
    "Welcome to the first project of the Machine Learning Engineer Nanodegree! In this notebook, some template code has already been provided for you, and you will need to implement additional functionality to successfully complete this project. You will not need to modify the included code beyond what is requested. Sections that begin with **'Implementation'** in the header indicate that the following block of code will require additional functionality which you must provide. Instructions will be provided for each section and the specifics of the implementation are marked in the code block with a 'TODO' statement. Please be sure to read the instructions carefully!\n",
    "\n",
    "In addition to implementing code, there will be questions that you must answer which relate to the project and your implementation. Each section where you will answer a question is preceded by a **'Question X'** header. Carefully read each question and provide thorough answers in the following text boxes that begin with **'Answer:'**. Your project submission will be evaluated based on your answers to each of the questions and the implementation you provide.  \n",
    "\n",
    ">**Note:** Code and Markdown cells can be executed using the **Shift + Enter** keyboard shortcut. In addition, Markdown cells can be edited by typically double-clicking the cell to enter edit mode."
   ]
  },
  {
   "cell_type": "markdown",
   "metadata": {},
   "source": [
    "## Getting Started\n",
    "In this project, you will evaluate the performance and predictive power of a model that has been trained and tested on data collected from homes in suburbs of Boston, Massachusetts. A model trained on this data that is seen as a *good fit* could then be used to make certain predictions about a home — in particular, its monetary value. This model would prove to be invaluable for someone like a real estate agent who could make use of such information on a daily basis.\n",
    "\n",
    "The dataset for this project originates from the [UCI Machine Learning Repository](https://archive.ics.uci.edu/ml/datasets/Housing). The Boston housing data was collected in 1978 and each of the 506 entries represent aggregated data about 14 features for homes from various suburbs in Boston, Massachusetts. For the purposes of this project, the following preprocessing steps have been made to the dataset:\n",
    "- 16 data points have an `'MEDV'` value of 50.0. These data points likely contain **missing or censored values** and have been removed.\n",
    "- 1 data point has an `'RM'` value of 8.78. This data point can be considered an **outlier** and has been removed.\n",
    "- The features `'RM'`, `'LSTAT'`, `'PTRATIO'`, and `'MEDV'` are essential. The remaining **non-relevant features** have been excluded.\n",
    "- The feature `'MEDV'` has been **multiplicatively scaled** to account for 35 years of market inflation.\n",
    "\n",
    "Run the code cell below to load the Boston housing dataset, along with a few of the necessary Python libraries required for this project. You will know the dataset loaded successfully if the size of the dataset is reported."
   ]
  },
  {
   "cell_type": "code",
   "execution_count": 15,
   "metadata": {},
   "outputs": [
    {
     "name": "stdout",
     "output_type": "stream",
     "text": [
      "Boston housing dataset has 489 data points with 4 variables each.\n",
      "        RM  LSTAT  PTRATIO\n",
      "0    6.575   4.98     15.3\n",
      "1    6.421   9.14     17.8\n",
      "2    7.185   4.03     17.8\n",
      "3    6.998   2.94     18.7\n",
      "4    7.147   5.33     18.7\n",
      "5    6.430   5.21     18.7\n",
      "6    6.012  12.43     15.2\n",
      "7    6.172  19.15     15.2\n",
      "8    5.631  29.93     15.2\n",
      "9    6.004  17.10     15.2\n",
      "10   6.377  20.45     15.2\n",
      "11   6.009  13.27     15.2\n",
      "12   5.889  15.71     15.2\n",
      "13   5.949   8.26     21.0\n",
      "14   6.096  10.26     21.0\n",
      "15   5.834   8.47     21.0\n",
      "16   5.935   6.58     21.0\n",
      "17   5.990  14.67     21.0\n",
      "18   5.456  11.69     21.0\n",
      "19   5.727  11.28     21.0\n",
      "20   5.570  21.02     21.0\n",
      "21   5.965  13.83     21.0\n",
      "22   6.142  18.72     21.0\n",
      "23   5.813  19.88     21.0\n",
      "24   5.924  16.30     21.0\n",
      "25   5.599  16.51     21.0\n",
      "26   5.813  14.81     21.0\n",
      "27   6.047  17.28     21.0\n",
      "28   6.495  12.80     21.0\n",
      "29   6.674  11.98     21.0\n",
      "..     ...    ...      ...\n",
      "459  6.484  18.68     20.2\n",
      "460  5.304  24.91     20.2\n",
      "461  6.185  18.03     20.2\n",
      "462  6.229  13.11     20.2\n",
      "463  6.242  10.74     20.2\n",
      "464  6.750   7.74     20.2\n",
      "465  7.061   7.01     20.2\n",
      "466  5.762  10.42     20.2\n",
      "467  5.871  13.34     20.2\n",
      "468  6.312  10.58     20.2\n",
      "469  6.114  14.98     20.2\n",
      "470  5.905  11.45     20.2\n",
      "471  5.454  18.06     20.1\n",
      "472  5.414  23.97     20.1\n",
      "473  5.093  29.68     20.1\n",
      "474  5.983  18.07     20.1\n",
      "475  5.983  13.35     20.1\n",
      "476  5.707  12.01     19.2\n",
      "477  5.926  13.59     19.2\n",
      "478  5.670  17.60     19.2\n",
      "479  5.390  21.14     19.2\n",
      "480  5.794  14.10     19.2\n",
      "481  6.019  12.92     19.2\n",
      "482  5.569  15.10     19.2\n",
      "483  6.027  14.33     19.2\n",
      "484  6.593   9.67     21.0\n",
      "485  6.120   9.08     21.0\n",
      "486  6.976   5.64     21.0\n",
      "487  6.794   6.48     21.0\n",
      "488  6.030   7.88     21.0\n",
      "\n",
      "[489 rows x 3 columns] 0      504000.0\n",
      "1      453600.0\n",
      "2      728700.0\n",
      "3      701400.0\n",
      "4      760200.0\n",
      "5      602700.0\n",
      "6      480900.0\n",
      "7      569100.0\n",
      "8      346500.0\n",
      "9      396900.0\n",
      "10     315000.0\n",
      "11     396900.0\n",
      "12     455700.0\n",
      "13     428400.0\n",
      "14     382200.0\n",
      "15     417900.0\n",
      "16     485100.0\n",
      "17     367500.0\n",
      "18     424200.0\n",
      "19     382200.0\n",
      "20     285600.0\n",
      "21     411600.0\n",
      "22     319200.0\n",
      "23     304500.0\n",
      "24     327600.0\n",
      "25     291900.0\n",
      "26     348600.0\n",
      "27     310800.0\n",
      "28     386400.0\n",
      "29     441000.0\n",
      "         ...   \n",
      "459    350700.0\n",
      "460    252000.0\n",
      "461    306600.0\n",
      "462    449400.0\n",
      "463    483000.0\n",
      "464    497700.0\n",
      "465    525000.0\n",
      "466    457800.0\n",
      "467    432600.0\n",
      "468    445200.0\n",
      "469    401100.0\n",
      "470    432600.0\n",
      "471    319200.0\n",
      "472    147000.0\n",
      "473    170100.0\n",
      "474    285600.0\n",
      "475    422100.0\n",
      "476    457800.0\n",
      "477    514500.0\n",
      "478    485100.0\n",
      "479    413700.0\n",
      "480    384300.0\n",
      "481    445200.0\n",
      "482    367500.0\n",
      "483    352800.0\n",
      "484    470400.0\n",
      "485    432600.0\n",
      "486    501900.0\n",
      "487    462000.0\n",
      "488    249900.0\n",
      "Name: MEDV, Length: 489, dtype: float64\n"
     ]
    }
   ],
   "source": [
    "# Import libraries necessary for this project\n",
    "import numpy as np\n",
    "import pandas as pd\n",
    "from sklearn.model_selection import ShuffleSplit\n",
    "\n",
    "# Import supplementary visualizations code visuals.py\n",
    "import visuals as vs\n",
    "\n",
    "# Pretty display for notebooks\n",
    "%matplotlib inline\n",
    "\n",
    "# Load the Boston housing dataset\n",
    "data = pd.read_csv('housing.csv')\n",
    "prices = data['MEDV']\n",
    "features = data.drop('MEDV', axis = 1)\n",
    "\n",
    "    \n",
    "# Success\n",
    "print(\"Boston housing dataset has {} data points with {} variables each.\".format(*data.shape))\n",
    "print(features,prices)"
   ]
  },
  {
   "cell_type": "markdown",
   "metadata": {},
   "source": [
    "## Data Exploration\n",
    "In this first section of this project, you will make a cursory investigation about the Boston housing data and provide your observations. Familiarizing yourself with the data through an explorative process is a fundamental practice to help you better understand and justify your results.\n",
    "\n",
    "Since the main goal of this project is to construct a working model which has the capability of predicting the value of houses, we will need to separate the dataset into **features** and the **target variable**. The **features**, `'RM'`, `'LSTAT'`, and `'PTRATIO'`, give us quantitative information about each data point. The **target variable**, `'MEDV'`, will be the variable we seek to predict. These are stored in `features` and `prices`, respectively."
   ]
  },
  {
   "cell_type": "markdown",
   "metadata": {},
   "source": [
    "### Implementation: Calculate Statistics\n",
    "For your very first coding implementation, you will calculate descriptive statistics about the Boston housing prices. Since `numpy` has already been imported for you, use this library to perform the necessary calculations. These statistics will be extremely important later on to analyze various prediction results from the constructed model.\n",
    "\n",
    "In the code cell below, you will need to implement the following:\n",
    "- Calculate the minimum, maximum, mean, median, and standard deviation of `'MEDV'`, which is stored in `prices`.\n",
    "  - Store each calculation in their respective variable."
   ]
  },
  {
   "cell_type": "code",
   "execution_count": 16,
   "metadata": {},
   "outputs": [
    {
     "name": "stdout",
     "output_type": "stream",
     "text": [
      "Statistics for Boston housing dataset:\n",
      "\n",
      "Minimum price: $105000.0\n",
      "Maximum price: $1024800.0\n",
      "Mean price: $454342.9447852761\n",
      "Median price $438900.0\n",
      "Standard deviation of prices: $165340.27765266784\n"
     ]
    }
   ],
   "source": [
    "# TODO: Minimum price of the data\n",
    "minimum_price = min(prices)\n",
    "\n",
    "# TODO: Maximum price of the data\n",
    "maximum_price = max(prices)\n",
    "\n",
    "# TODO: Mean price of the data\n",
    "mean_price = prices.mean()\n",
    "\n",
    "# TODO: Median price of the data\n",
    "median_price = prices.median()\n",
    "\n",
    "# TODO: Standard deviation of prices of the data\n",
    "std_price = prices.std()\n",
    "\n",
    "# Show the calculated statistics\n",
    "print(\"Statistics for Boston housing dataset:\\n\")\n",
    "print(\"Minimum price: ${}\".format(minimum_price)) \n",
    "print(\"Maximum price: ${}\".format(maximum_price))\n",
    "print(\"Mean price: ${}\".format(mean_price))\n",
    "print(\"Median price ${}\".format(median_price))\n",
    "print(\"Standard deviation of prices: ${}\".format(std_price))"
   ]
  },
  {
   "cell_type": "markdown",
   "metadata": {},
   "source": [
    "### Question 1 - Feature Observation\n",
    "As a reminder, we are using three features from the Boston housing dataset: `'RM'`, `'LSTAT'`, and `'PTRATIO'`. For each data point (neighborhood):\n",
    "- `'RM'` is the average number of rooms among homes in the neighborhood.\n",
    "- `'LSTAT'` is the percentage of homeowners in the neighborhood considered \"lower class\" (working poor).\n",
    "- `'PTRATIO'` is the ratio of students to teachers in primary and secondary schools in the neighborhood.\n",
    "\n",
    "\n",
    "** Using your intuition, for each of the three features above, do you think that an increase in the value of that feature would lead to an **increase** in the value of `'MEDV'` or a **decrease** in the value of `'MEDV'`? Justify your answer for each.**\n",
    "\n",
    "**Hint:** This problem can phrased using examples like below.  \n",
    "* Would you expect a home that has an `'RM'` value(number of rooms) of 6 be worth more or less than a home that has an `'RM'` value of 7?\n",
    "* Would you expect a neighborhood that has an `'LSTAT'` value(percent of lower class workers) of 15 have home prices be worth more or less than a neighborhood that has an `'LSTAT'` value of 20?\n",
    "* Would you expect a neighborhood that has an `'PTRATIO'` value(ratio of students to teachers) of 10 have home prices be worth more or less than a neighborhood that has an `'PTRATIO'` value of 15?"
   ]
  },
  {
   "cell_type": "markdown",
   "metadata": {},
   "source": [
    "**Answer: ** \n",
    "'RM'   : An increase in the average number of homes in the neighborhood will result in increase in value of 'MEDV'. For eg. homes having 6 rooms will cheaper than rooms having 7 rooms hence this will increase the RM value.  \n",
    "'LSAT' : The increase  of the 'LSTAT' value will decrease the value of 'MEDV' as if the % of homeowners who are working poor are more then it mean the house prices will be less.\n",
    "\n",
    "'PTRATIO' : If there is a decrease in the 'PTRATIO' then this will mean that there are more teachers in the neighborhood which means more salaried educated persons so the 'MEDV' value might go up and otherwise it means students are more , then it will depend on the situation.   \n"
   ]
  },
  {
   "cell_type": "markdown",
   "metadata": {},
   "source": [
    "----\n",
    "\n",
    "## Developing a Model\n",
    "In this second section of the project, you will develop the tools and techniques necessary for a model to make a prediction. Being able to make accurate evaluations of each model's performance through the use of these tools and techniques helps to greatly reinforce the confidence in your predictions."
   ]
  },
  {
   "cell_type": "markdown",
   "metadata": {},
   "source": [
    "### Implementation: Define a Performance Metric\n",
    "It is difficult to measure the quality of a given model without quantifying its performance over training and testing. This is typically done using some type of performance metric, whether it is through calculating some type of error, the goodness of fit, or some other useful measurement. For this project, you will be calculating the [*coefficient of determination*](http://stattrek.com/statistics/dictionary.aspx?definition=coefficient_of_determination), R<sup>2</sup>, to quantify your model's performance. The coefficient of determination for a model is a useful statistic in regression analysis, as it often describes how \"good\" that model is at making predictions. \n",
    "\n",
    "The values for R<sup>2</sup> range from 0 to 1, which captures the percentage of squared correlation between the predicted and actual values of the **target variable**. A model with an R<sup>2</sup> of 0 is no better than a model that always predicts the *mean* of the target variable, whereas a model with an R<sup>2</sup> of 1 perfectly predicts the target variable. Any value between 0 and 1 indicates what percentage of the target variable, using this model, can be explained by the **features**. _A model can be given a negative R<sup>2</sup> as well, which indicates that the model is **arbitrarily worse** than one that always predicts the mean of the target variable._\n",
    "\n",
    "For the `performance_metric` function in the code cell below, you will need to implement the following:\n",
    "- Use `r2_score` from `sklearn.metrics` to perform a performance calculation between `y_true` and `y_predict`.\n",
    "- Assign the performance score to the `score` variable."
   ]
  },
  {
   "cell_type": "code",
   "execution_count": 17,
   "metadata": {},
   "outputs": [],
   "source": [
    "from sklearn.metrics import r2_score\n",
    "\n",
    "def performance_metric(y_true, y_predict):\n",
    "    \"\"\" Calculates and returns the performance score between \n",
    "        true and predicted values based on the metric chosen. \"\"\"\n",
    "    \n",
    "    # TODO: Calculate the performance score between 'y_true' and 'y_predict'\n",
    "    score = r2_score(y_true,y_predict)\n",
    "    \n",
    "    # Return the score\n",
    "    return score"
   ]
  },
  {
   "cell_type": "markdown",
   "metadata": {},
   "source": [
    "### Question 2 - Goodness of Fit\n",
    "Assume that a dataset contains five data points and a model made the following predictions for the target variable:\n",
    "\n",
    "| True Value | Prediction |\n",
    "| :-------------: | :--------: |\n",
    "| 3.0 | 2.5 |\n",
    "| -0.5 | 0.0 |\n",
    "| 2.0 | 2.1 |\n",
    "| 7.0 | 7.8 |\n",
    "| 4.2 | 5.3 |\n",
    "\n",
    "Run the code cell below to use the `performance_metric` function and calculate this model's coefficient of determination."
   ]
  },
  {
   "cell_type": "code",
   "execution_count": 18,
   "metadata": {},
   "outputs": [
    {
     "name": "stdout",
     "output_type": "stream",
     "text": [
      "Model has a coefficient of determination, R^2, of 0.923.\n"
     ]
    }
   ],
   "source": [
    "# Calculate the performance of this model\n",
    "score = performance_metric([3, -0.5, 2, 7, 4.2], [2.5, 0.0, 2.1, 7.8, 5.3])\n",
    "print(\"Model has a coefficient of determination, R^2, of {:.3f}.\".format(score))"
   ]
  },
  {
   "cell_type": "markdown",
   "metadata": {},
   "source": [
    "* Would you consider this model to have successfully captured the variation of the target variable? \n",
    "* Why or why not?\n",
    "\n",
    "** Hint: **  The R2 score is the proportion of the variance in the dependent variable that is predictable from the independent variable. In other words:\n",
    "* R2 score of 0 means that the dependent variable cannot be predicted from the independent variable.\n",
    "* R2 score of 1 means the dependent variable can be predicted from the independent variable.\n",
    "* R2 score between 0 and 1 indicates the extent to which the dependent variable is predictable. An \n",
    "* R2 score of 0.40 means that 40 percent of the variance in Y is predictable from X."
   ]
  },
  {
   "cell_type": "markdown",
   "metadata": {},
   "source": [
    "**Answer:**  yes the model will succesfully capture the variation of the target variable, the dependent variable can be predicted from the independent variable more correctly as R^2 is 0.923 which is more closer to 1.  "
   ]
  },
  {
   "cell_type": "markdown",
   "metadata": {},
   "source": [
    "### Implementation: Shuffle and Split Data\n",
    "Your next implementation requires that you take the Boston housing dataset and split the data into training and testing subsets. Typically, the data is also shuffled into a random order when creating the training and testing subsets to remove any bias in the ordering of the dataset.\n",
    "\n",
    "For the code cell below, you will need to implement the following:\n",
    "- Use `train_test_split` from `sklearn.model_selection` to shuffle and split the `features` and `prices` data into training and testing sets.\n",
    "  - Split the data into 80% training and 20% testing.\n",
    "  - Set the `random_state` for `train_test_split` to a value of your choice. This ensures results are consistent.\n",
    "- Assign the train and testing splits to `X_train`, `X_test`, `y_train`, and `y_test`."
   ]
  },
  {
   "cell_type": "code",
   "execution_count": 19,
   "metadata": {},
   "outputs": [
    {
     "name": "stdout",
     "output_type": "stream",
     "text": [
      "        RM  LSTAT  PTRATIO\n",
      "325  5.869   9.80     20.2\n",
      "140  6.174  24.16     21.2\n",
      "433  6.749  17.44     20.2\n",
      "416  6.436  16.22     20.2\n",
      "487  6.794   6.48     21.0\n",
      "25   5.599  16.51     21.0\n",
      "459  6.484  18.68     20.2\n",
      "137  6.454  14.59     21.2\n",
      "454  6.229  12.87     20.2\n",
      "349  6.398   7.79     20.2\n",
      "42   6.169   5.81     17.9\n",
      "208  6.182   9.47     18.6\n",
      "237  5.605  18.46     19.1\n",
      "274  6.453   8.23     15.3\n",
      "249  7.333   7.79     13.0\n",
      "467  5.871  13.34     20.2\n",
      "355  3.863  13.33     20.2\n",
      "410  6.202  14.52     20.2\n",
      "245  8.259   3.54     19.1\n",
      "440  5.936  16.94     20.2\n",
      "22   6.142  18.72     21.0\n",
      "321  6.031   7.83     16.9\n",
      "46   5.786  14.15     17.9\n",
      "31   6.072  13.04     21.0\n",
      "113  6.092  17.09     17.8\n",
      "370  5.000  31.99     20.2\n",
      "299  4.973  12.64     18.4\n",
      "192  7.274   6.62     12.6\n",
      "132  6.372  11.12     21.2\n",
      "57   6.816   3.95     15.1\n",
      "..     ...    ...      ...\n",
      "276  6.209   7.14     16.6\n",
      "443  6.701  16.42     20.2\n",
      "191  7.107   8.61     12.6\n",
      "385  6.404  20.31     20.2\n",
      "293  7.236   6.93     18.4\n",
      "413  6.348  17.64     20.2\n",
      "343  5.663   8.05     22.0\n",
      "257  7.014  14.79     13.0\n",
      "308  6.113  12.73     18.4\n",
      "149  5.597  21.45     14.7\n",
      "130  6.458  12.60     21.2\n",
      "151  5.404  13.28     14.7\n",
      "359  6.649  23.24     20.2\n",
      "99   7.416   6.19     18.0\n",
      "372  5.390  20.85     20.2\n",
      "87   6.121   8.44     18.5\n",
      "458  6.162  24.10     20.2\n",
      "330  7.241   5.49     15.5\n",
      "214  6.164  21.46     17.4\n",
      "466  5.762  10.42     20.2\n",
      "121  6.004  14.27     19.1\n",
      "488  6.030   7.88     21.0\n",
      "20   5.570  21.02     21.0\n",
      "188  6.800   5.03     15.6\n",
      "71   5.961   9.88     19.2\n",
      "106  5.836  18.66     20.9\n",
      "270  7.820   3.76     14.9\n",
      "348  6.112  12.67     20.2\n",
      "435  6.297  17.27     20.2\n",
      "102  6.405  10.63     20.9\n",
      "\n",
      "[391 rows x 3 columns]         RM  LSTAT  PTRATIO\n",
      "451  5.926  18.13     20.2\n",
      "84   6.389   9.62     18.5\n",
      "434  6.655  17.73     20.2\n",
      "472  5.414  23.97     20.1\n",
      "428  6.459  23.98     20.2\n",
      "312  5.708  11.74     19.6\n",
      "30   5.713  22.60     21.0\n",
      "220  7.686   3.92     17.4\n",
      "482  5.569  15.10     19.2\n",
      "231  6.606   7.37     16.6\n",
      "9    6.004  17.10     15.2\n",
      "124  5.879  17.58     19.1\n",
      "422  5.627  22.88     20.2\n",
      "204  5.404  23.98     18.6\n",
      "360  6.794  21.24     20.2\n",
      "70   6.417   6.72     19.2\n",
      "430  6.251  16.44     20.2\n",
      "431  6.185  18.13     20.2\n",
      "364  6.545  21.08     20.2\n",
      "211  5.951  17.92     16.4\n",
      "78   6.232  12.34     18.7\n",
      "181  6.153  13.15     17.8\n",
      "424  6.406  19.52     20.2\n",
      "55   7.249   4.81     17.9\n",
      "76   6.279  11.97     18.7\n",
      "77   6.140  10.27     18.7\n",
      "154  6.129  15.12     14.7\n",
      "265  6.854   2.98     17.6\n",
      "271  6.968   4.59     14.9\n",
      "381  5.453  30.59     20.2\n",
      "..     ...    ...      ...\n",
      "397  4.519  36.98     20.2\n",
      "478  5.670  17.60     19.2\n",
      "420  6.152  26.45     20.2\n",
      "104  6.167  12.33     20.9\n",
      "335  5.898  12.67     18.8\n",
      "468  6.312  10.58     20.2\n",
      "474  5.983  18.07     20.1\n",
      "79   5.874   9.10     18.7\n",
      "298  5.972   9.97     18.4\n",
      "316  6.083  12.79     19.6\n",
      "82   6.302   6.72     19.0\n",
      "131  6.326  12.26     21.2\n",
      "310  6.376   6.87     19.6\n",
      "290  6.590   9.50     16.1\n",
      "390  5.608  12.13     20.2\n",
      "479  5.390  21.14     19.2\n",
      "117  6.021  10.30     17.8\n",
      "340  6.579   5.49     18.3\n",
      "86   6.015  12.86     18.5\n",
      "75   6.286   8.94     18.7\n",
      "429  6.341  17.79     20.2\n",
      "15   5.834   8.47     21.0\n",
      "209  5.888  13.51     16.4\n",
      "378  6.471  17.12     20.2\n",
      "19   5.727  11.28     21.0\n",
      "317  5.868   9.97     16.9\n",
      "376  6.193  15.17     20.2\n",
      "56   6.383   5.77     17.3\n",
      "275  6.230  12.93     18.2\n",
      "398  6.434  29.05     20.2\n",
      "\n",
      "[98 rows x 3 columns] 325    409500.0\n",
      "140    294000.0\n",
      "433    281400.0\n",
      "416    300300.0\n",
      "487    462000.0\n",
      "25     291900.0\n",
      "459    350700.0\n",
      "137    359100.0\n",
      "454    411600.0\n",
      "349    525000.0\n",
      "42     531300.0\n",
      "208    525000.0\n",
      "237    388500.0\n",
      "274    462000.0\n",
      "249    756000.0\n",
      "467    432600.0\n",
      "355    485100.0\n",
      "410    228900.0\n",
      "245    898800.0\n",
      "440    283500.0\n",
      "22     319200.0\n",
      "321    407400.0\n",
      "46     420000.0\n",
      "31     304500.0\n",
      "113    392700.0\n",
      "370    155400.0\n",
      "299    338100.0\n",
      "192    726600.0\n",
      "132    483000.0\n",
      "57     663600.0\n",
      "         ...   \n",
      "276    487200.0\n",
      "443    344400.0\n",
      "191    636300.0\n",
      "385    254100.0\n",
      "293    758100.0\n",
      "413    304500.0\n",
      "343    382200.0\n",
      "257    644700.0\n",
      "308    441000.0\n",
      "149    323400.0\n",
      "130    403200.0\n",
      "151    411600.0\n",
      "359    291900.0\n",
      "99     697200.0\n",
      "372    241500.0\n",
      "87     466200.0\n",
      "458    279300.0\n",
      "330    686700.0\n",
      "214    455700.0\n",
      "466    457800.0\n",
      "121    426300.0\n",
      "488    249900.0\n",
      "20     285600.0\n",
      "188    653100.0\n",
      "71     455700.0\n",
      "106    409500.0\n",
      "270    953400.0\n",
      "348    474600.0\n",
      "435    338100.0\n",
      "102    390600.0\n",
      "Name: MEDV, Length: 391, dtype: float64 451    401100.0\n",
      "84     501900.0\n",
      "434    319200.0\n",
      "472    147000.0\n",
      "428    247800.0\n",
      "312    388500.0\n",
      "30     266700.0\n",
      "220    980700.0\n",
      "482    367500.0\n",
      "231    489300.0\n",
      "9      396900.0\n",
      "124    394800.0\n",
      "422    268800.0\n",
      "204    405300.0\n",
      "360    279300.0\n",
      "70     508200.0\n",
      "430    264600.0\n",
      "431    296100.0\n",
      "364    228900.0\n",
      "211    451500.0\n",
      "78     445200.0\n",
      "181    621600.0\n",
      "424    359100.0\n",
      "55     743400.0\n",
      "76     420000.0\n",
      "77     436800.0\n",
      "154    357000.0\n",
      "265    672000.0\n",
      "271    743400.0\n",
      "381    105000.0\n",
      "         ...   \n",
      "397    147000.0\n",
      "478    485100.0\n",
      "420    182700.0\n",
      "104    422100.0\n",
      "335    361200.0\n",
      "468    445200.0\n",
      "474    285600.0\n",
      "79     426300.0\n",
      "298    426300.0\n",
      "316    466200.0\n",
      "82     520800.0\n",
      "131    411600.0\n",
      "310    485100.0\n",
      "290    462000.0\n",
      "390    585900.0\n",
      "479    413700.0\n",
      "117    403200.0\n",
      "340    506100.0\n",
      "86     472500.0\n",
      "75     449400.0\n",
      "429    312900.0\n",
      "15     417900.0\n",
      "209    489300.0\n",
      "378    275100.0\n",
      "19     382200.0\n",
      "317    405300.0\n",
      "376    289800.0\n",
      "56     518700.0\n",
      "275    422100.0\n",
      "398    151200.0\n",
      "Name: MEDV, Length: 98, dtype: float64\n",
      "Training and testing split was successful.\n"
     ]
    }
   ],
   "source": [
    "from sklearn.model_selection import train_test_split\n",
    "\n",
    "# TODO: Shuffle and split the data into training and testing subsets\n",
    "X_train, X_test, y_train, y_test = train_test_split(features, prices, test_size=0.2, random_state = 42)\n",
    "\n",
    "print(X_train,X_test,y_train,y_test)\n",
    "# Success\n",
    "print(\"Training and testing split was successful.\")"
   ]
  },
  {
   "cell_type": "markdown",
   "metadata": {},
   "source": [
    "### Question 3 - Training and Testing\n",
    "\n",
    "* What is the benefit to splitting a dataset into some ratio of training and testing subsets for a learning algorithm?\n",
    "\n",
    "**Hint:** Think about how overfitting or underfitting is contingent upon how splits on data is done."
   ]
  },
  {
   "cell_type": "markdown",
   "metadata": {},
   "source": [
    "**Answer: **  \n",
    "\n",
    "When we split the data into training and testing set then it will change variance depending on the ratio or how the data differs from orignal value hence, how we make our choice of features for training data tells us whether we are doing overfitting or underfitting of the data. The ratio in which we divide the training and testing set affects it. We cannot use testing data for training the model."
   ]
  },
  {
   "cell_type": "markdown",
   "metadata": {},
   "source": [
    "----\n",
    "\n",
    "## Analyzing Model Performance\n",
    "In this third section of the project, you'll take a look at several models' learning and testing performances on various subsets of training data. Additionally, you'll investigate one particular algorithm with an increasing `'max_depth'` parameter on the full training set to observe how model complexity affects performance. Graphing your model's performance based on varying criteria can be beneficial in the analysis process, such as visualizing behavior that may not have been apparent from the results alone."
   ]
  },
  {
   "cell_type": "markdown",
   "metadata": {},
   "source": [
    "### Learning Curves\n",
    "The following code cell produces four graphs for a decision tree model with different maximum depths. Each graph visualizes the learning curves of the model for both training and testing as the size of the training set is increased. Note that the shaded region of a learning curve denotes the uncertainty of that curve (measured as the standard deviation). The model is scored on both the training and testing sets using R<sup>2</sup>, the coefficient of determination.  \n",
    "\n",
    "Run the code cell below and use these graphs to answer the following question."
   ]
  },
  {
   "cell_type": "code",
   "execution_count": 20,
   "metadata": {
    "scrolled": false
   },
   "outputs": [
    {
     "data": {
      "image/png": "[encoded data removed]",
      "text/plain": [
       "<Figure size 720x504 with 4 Axes>"
      ]
     },
     "metadata": {
      "needs_background": "light"
     },
     "output_type": "display_data"
    }
   ],
   "source": [
    "# Produce learning curves for varying training set sizes and maximum depths\n",
    "vs.ModelLearning(features, prices)"
   ]
  },
  {
   "cell_type": "markdown",
   "metadata": {},
   "source": [
    "### Question 4 - Learning the Data\n",
    "* Choose one of the graphs above and state the maximum depth for the model. \n",
    "* What happens to the score of the training curve as more training points are added? What about the testing curve? \n",
    "* Would having more training points benefit the model? \n",
    "\n",
    "**Hint:** Are the learning curves converging to particular scores? Generally speaking, the more data you have, the better. But if your training and testing curves are converging with a score above your benchmark threshold, would this be necessary?\n",
    "Think about the pros and cons of adding more training points based on if the training and testing curves are converging."
   ]
  },
  {
   "cell_type": "markdown",
   "metadata": {},
   "source": [
    "**Answer: **\n",
    "\n",
    "-> For the graph with max_depth = 10\n",
    "-> For the training curve if more points are added the score remains stable at 1.0  and does not converges.\n",
    "-> For the testing  curve if more points are added the score increases initially around 200 and then decreases gradually.\n",
    "-> No it wouldn't benifit because for the polynomial of higher degree the training score will stabalise as it would always predict around the same error."
   ]
  },
  {
   "cell_type": "markdown",
   "metadata": {},
   "source": [
    "### Complexity Curves\n",
    "The following code cell produces a graph for a decision tree model that has been trained and validated on the training data using different maximum depths. The graph produces two complexity curves — one for training and one for validation. Similar to the **learning curves**, the shaded regions of both the complexity curves denote the uncertainty in those curves, and the model is scored on both the training and validation sets using the `performance_metric` function.  \n",
    "\n",
    "** Run the code cell below and use this graph to answer the following two questions Q5 and Q6. **"
   ]
  },
  {
   "cell_type": "code",
   "execution_count": 21,
   "metadata": {},
   "outputs": [
    {
     "data": {
      "image/png": "[encoded data removed]",
      "text/plain": [
       "<Figure size 504x360 with 1 Axes>"
      ]
     },
     "metadata": {
      "needs_background": "light"
     },
     "output_type": "display_data"
    }
   ],
   "source": [
    "vs.ModelComplexity(X_train, y_train)"
   ]
  },
  {
   "cell_type": "markdown",
   "metadata": {},
   "source": [
    "### Question 5 - Bias-Variance Tradeoff\n",
    "* When the model is trained with a maximum depth of 1, does the model suffer from high bias or from high variance? \n",
    "* How about when the model is trained with a maximum depth of 10? What visual cues in the graph justify your conclusions?\n",
    "\n",
    "**Hint:** High bias is a sign of underfitting(model is not complex enough to pick up the nuances in the data) and high variance is a sign of overfitting(model is by-hearting the data and cannot generalize well). Think about which model(depth 1 or 10) aligns with which part of the tradeoff."
   ]
  },
  {
   "cell_type": "markdown",
   "metadata": {},
   "source": [
    "**Answer: **\n",
    "\n",
    "->when the model is trained with a maximum_depth = 1 the model suffers from high bias as we will be  oversimplifying the problem.\n",
    "->when the model is trained with a maximum depth = 10 then the model will suffer from high variance problem as we will be overfitting the problem and the training data will always give the same error and hence it will never converge with the validation score. "
   ]
  },
  {
   "cell_type": "markdown",
   "metadata": {},
   "source": [
    "### Question 6 - Best-Guess Optimal Model\n",
    "* Which maximum depth do you think results in a model that best generalizes to unseen data? \n",
    "* What intuition lead you to this answer?\n",
    "\n",
    "** Hint: ** Look at the graph above Question 5 and see where the validation scores lie for the various depths that have been assigned to the model. Does it get better with increased depth? At what point do we get our best validation score without overcomplicating our model? And remember, Occams Razor states \"Among competing hypotheses, the one with the fewest assumptions should be selected.\""
   ]
  },
  {
   "cell_type": "markdown",
   "metadata": {},
   "source": [
    "**Answer: **\n",
    "\n",
    "->the maximum_depth = 3 will best genralize the unseen data as the curve will neither underfit as a line nor overfit.\n",
    "\n",
    "->the training score and the validation score both increase till maximum_depth = 3 and after that it remains stable till 4 and then both diverges away. "
   ]
  },
  {
   "cell_type": "markdown",
   "metadata": {},
   "source": [
    "-----\n",
    "\n",
    "## Evaluating Model Performance\n",
    "In this final section of the project, you will construct a model and make a prediction on the client's feature set using an optimized model from `fit_model`."
   ]
  },
  {
   "cell_type": "markdown",
   "metadata": {},
   "source": [
    "### Question 7 - Grid Search\n",
    "* What is the grid search technique?\n",
    "* How it can be applied to optimize a learning algorithm?\n",
    "\n",
    "** Hint: ** When explaining the Grid Search technique, be sure to touch upon why it is used,  what the 'grid' entails and what the end goal of this method is. To solidify your answer, you can also give an example of a parameter in a model that can be optimized using this approach."
   ]
  },
  {
   "cell_type": "markdown",
   "metadata": {},
   "source": [
    "**Answer: **\n",
    "\n",
    "->Grid search is used to choose the best combination between kernel and the gamma parameter by making a grid matrix where the coloumns are the degree of kernel (linear or polynomial) and the rows are gamma values.\n",
    "\n",
    "->We can calculate the evaluation metrics eg. f1 score etc for all the cells in the grid  and then select the best one to optimize the learning algorithm. "
   ]
  },
  {
   "cell_type": "markdown",
   "metadata": {},
   "source": [
    "### Question 8 - Cross-Validation\n",
    "\n",
    "* What is the k-fold cross-validation training technique? \n",
    "\n",
    "* What benefit does this technique provide for grid search when optimizing a model?\n",
    "\n",
    "**Hint:** When explaining the k-fold cross validation technique, be sure to touch upon what 'k' is, how the dataset is split into different parts for training and testing and the number of times it is run based on the 'k' value.\n",
    "\n",
    "When thinking about how k-fold cross validation helps grid search, think about the main drawbacks of grid search which are hinged upon **using a particular subset of data for training or testing** and how k-fold cv could help alleviate that. You can refer to the [docs](http://scikit-learn.org/stable/modules/cross_validation.html#cross-validation) for your answer."
   ]
  },
  {
   "cell_type": "markdown",
   "metadata": {},
   "source": [
    "**Answer: **  \n",
    "\n",
    "->In k-fold cross validation technique we divide the data in k parts randomly and then select any part as testing data and the remaining as training data  and then average the result to get the final result.\n",
    "\n",
    "->We can use this technique for cross validation in the grid search method for optimizing the model.    "
   ]
  },
  {
   "cell_type": "markdown",
   "metadata": {},
   "source": [
    "### Implementation: Fitting a Model\n",
    "Your final implementation requires that you bring everything together and train a model using the **decision tree algorithm**. To ensure that you are producing an optimized model, you will train the model using the grid search technique to optimize the `'max_depth'` parameter for the decision tree. The `'max_depth'` parameter can be thought of as how many questions the decision tree algorithm is allowed to ask about the data before making a prediction. Decision trees are part of a class of algorithms called *supervised learning algorithms*.\n",
    "\n",
    "In addition, you will find your implementation is using `ShuffleSplit()` for an alternative form of cross-validation (see the `'cv_sets'` variable). While it is not the K-Fold cross-validation technique you describe in **Question 8**, this type of cross-validation technique is just as useful!. The `ShuffleSplit()` implementation below will create 10 (`'n_splits'`) shuffled sets, and for each shuffle, 20% (`'test_size'`) of the data will be used as the *validation set*. While you're working on your implementation, think about the contrasts and similarities it has to the K-fold cross-validation technique.\n",
    "\n",
    "For the `fit_model` function in the code cell below, you will need to implement the following:\n",
    "- Use [`DecisionTreeRegressor`](http://scikit-learn.org/stable/modules/generated/sklearn.tree.DecisionTreeRegressor.html) from `sklearn.tree` to create a decision tree regressor object.\n",
    "  - Assign this object to the `'regressor'` variable.\n",
    "- Create a dictionary for `'max_depth'` with the values from 1 to 10, and assign this to the `'params'` variable.\n",
    "- Use [`make_scorer`](http://scikit-learn.org/stable/modules/generated/sklearn.metrics.make_scorer.html) from `sklearn.metrics` to create a scoring function object.\n",
    "  - Pass the `performance_metric` function as a parameter to the object.\n",
    "  - Assign this scoring function to the `'scoring_fnc'` variable.\n",
    "- Use [`GridSearchCV`](http://scikit-learn.org/0.20/modules/generated/sklearn.model_selection.GridSearchCV.html) from `sklearn.model_selection` to create a grid search object.\n",
    "  - Pass the variables `'regressor'`, `'params'`, `'scoring_fnc'`, and `'cv_sets'` as parameters to the object. \n",
    "  - Assign the `GridSearchCV` object to the `'grid'` variable."
   ]
  },
  {
   "cell_type": "code",
   "execution_count": 23,
   "metadata": {},
   "outputs": [],
   "source": [
    "# TODO: Import 'make_scorer', 'DecisionTreeRegressor', and 'GridSearchCV'\n",
    "from sklearn.metrics import make_scorer\n",
    "from sklearn.tree import  DecisionTreeRegressor \n",
    "from sklearn.model_selection import GridSearchCV\n",
    "\n",
    "\n",
    "def fit_model(X, y):\n",
    "    \"\"\" Performs grid search over the 'max_depth' parameter for a \n",
    "        decision tree regressor trained on the input data [X, y]. \"\"\"\n",
    "    \n",
    "    # Create cross-validation sets from the training data\n",
    "    cv_sets = ShuffleSplit(n_splits = 10, test_size = 0.20, random_state = 0)\n",
    "\n",
    "    # TODO: Create a decision tree regressor object\n",
    "    regressor = DecisionTreeRegressor()\n",
    "\n",
    "    # TODO: Create a dictionary for the parameter 'max_depth' with a range from 1 to 10\n",
    "    params = { \"max_depth\" : [x for x in range(1,11)] }\n",
    "\n",
    "    # TODO: Transform 'performance_metric' into a scoring function using 'make_scorer' \n",
    "    scoring_fnc = make_scorer(performance_metric)\n",
    "\n",
    "    # TODO: Create the grid search cv object --> GridSearchCV()\n",
    "    # Make sure to include the right parameters in the object:\n",
    "    # (estimator, param_grid, scoring, cv) which have values 'regressor', 'params', 'scoring_fnc', and 'cv_sets' respectively.\n",
    "    grid = GridSearchCV(regressor,params,scoring_fnc,cv=cv_sets)\n",
    "\n",
    "    # Fit the grid search object to the data to compute the optimal model\n",
    "    grid = grid.fit(X, y)\n",
    "\n",
    "    # Return the optimal model after fitting the data\n",
    "    return grid.best_estimator_"
   ]
  },
  {
   "cell_type": "markdown",
   "metadata": {},
   "source": [
    "### Making Predictions\n",
    "Once a model has been trained on a given set of data, it can now be used to make predictions on new sets of input data. In the case of a *decision tree regressor*, the model has learned *what the best questions to ask about the input data are*, and can respond with a prediction for the **target variable**. You can use these predictions to gain information about data where the value of the target variable is unknown — such as data the model was not trained on."
   ]
  },
  {
   "cell_type": "markdown",
   "metadata": {},
   "source": [
    "### Question 9 - Optimal Model\n",
    "\n",
    "* What maximum depth does the optimal model have? How does this result compare to your guess in **Question 6**?  \n",
    "\n",
    "Run the code block below to fit the decision tree regressor to the training data and produce an optimal model."
   ]
  },
  {
   "cell_type": "code",
   "execution_count": 26,
   "metadata": {
    "scrolled": true
   },
   "outputs": [
    {
     "name": "stdout",
     "output_type": "stream",
     "text": [
      "Parameter 'max_depth' is 4 for the optimal model.\n"
     ]
    }
   ],
   "source": [
    "# Fit the training data to the model using grid search\n",
    "reg = fit_model(X_train, y_train)\n",
    "\n",
    "# Produce the value for 'max_depth'\n",
    "print(\"Parameter 'max_depth' is {} for the optimal model.\".format(reg.get_params()['max_depth']))"
   ]
  },
  {
   "cell_type": "markdown",
   "metadata": {},
   "source": [
    "** Hint: ** The answer comes from the output of the code snipped above.\n",
    "\n",
    "**Answer: ** \n",
    "\n",
    "->the maximum_depth of the optimal model is 4. The result is more than my guess in Q6 i-e 3."
   ]
  },
  {
   "cell_type": "markdown",
   "metadata": {},
   "source": [
    "### Question 10 - Predicting Selling Prices\n",
    "Imagine that you were a real estate agent in the Boston area looking to use this model to help price homes owned by your clients that they wish to sell. You have collected the following information from three of your clients:\n",
    "\n",
    "| Feature | Client 1 | Client 2 | Client 3 |\n",
    "| :---: | :---: | :---: | :---: |\n",
    "| Total number of rooms in home | 5 rooms | 4 rooms | 8 rooms |\n",
    "| Neighborhood poverty level (as %) | 17% | 32% | 3% |\n",
    "| Student-teacher ratio of nearby schools | 15-to-1 | 22-to-1 | 12-to-1 |\n",
    "\n",
    "* What price would you recommend each client sell his/her home at? \n",
    "* Do these prices seem reasonable given the values for the respective features? \n",
    "\n",
    "**Hint:** Use the statistics you calculated in the **Data Exploration** section to help justify your response.  Of the three clients, client 3 has has the biggest house, in the best public school neighborhood with the lowest poverty level; while client 2 has the smallest house, in a neighborhood with a relatively high poverty rate and not the best public schools.\n",
    "\n",
    "Run the code block below to have your optimized model make predictions for each client's home."
   ]
  },
  {
   "cell_type": "code",
   "execution_count": 27,
   "metadata": {},
   "outputs": [
    {
     "name": "stdout",
     "output_type": "stream",
     "text": [
      "Predicted selling price for Client 1's home: $403,025.00\n",
      "Predicted selling price for Client 2's home: $237,478.72\n",
      "Predicted selling price for Client 3's home: $931,636.36\n"
     ]
    }
   ],
   "source": [
    "# Produce a matrix for client data\n",
    "client_data = [[5, 17, 15], # Client 1\n",
    "               [4, 32, 22], # Client 2\n",
    "               [8, 3, 12]]  # Client 3\n",
    "\n",
    "# Show predictions\n",
    "for i, price in enumerate(reg.predict(client_data)):\n",
    "    print(\"Predicted selling price for Client {}'s home: ${:,.2f}\".format(i+1, price))"
   ]
  },
  {
   "cell_type": "markdown",
   "metadata": {},
   "source": [
    "**Answer: **\n",
    "\n",
    "$403025 for client 1\n",
    "\n",
    "$237478 for client 2\n",
    "\n",
    "$931636 for client 3\n",
    "\n",
    "RM value for client 3 is the maximum followed by client 1 and then client 2.\n",
    "LSTAT percentage for client 2 is maximum followed by client 1 then client 3.\n",
    "PTRATIO for client 2 is maximum followed by client 1 then client 3.\n",
    "\n",
    "->Yes, these prices seem to be reasonable as the RM value of client 3 is maximum and LSTAT value is lowest hence it will have the highest price as expected and similarly for the other 2 clients in sequence.  \n",
    "\n",
    "\n",
    "\n"
   ]
  },
  {
   "cell_type": "markdown",
   "metadata": {},
   "source": [
    "### Sensitivity\n",
    "An optimal model is not necessarily a robust model. Sometimes, a model is either too complex or too simple to sufficiently generalize to new data. Sometimes, a model could use a learning algorithm that is not appropriate for the structure of the data given. Other times, the data itself could be too noisy or contain too few samples to allow a model to adequately capture the target variable — i.e., the model is underfitted. \n",
    "\n",
    "**Run the code cell below to run the `fit_model` function ten times with different training and testing sets to see how the prediction for a specific client changes with respect to the data it's trained on.**"
   ]
  },
  {
   "cell_type": "code",
   "execution_count": 28,
   "metadata": {},
   "outputs": [
    {
     "name": "stdout",
     "output_type": "stream",
     "text": [
      "Trial 1: $391,183.33\n",
      "Trial 2: $424,935.00\n",
      "Trial 3: $415,800.00\n",
      "Trial 4: $420,622.22\n",
      "Trial 5: $413,334.78\n",
      "Trial 6: $411,931.58\n",
      "Trial 7: $399,663.16\n",
      "Trial 8: $407,232.00\n",
      "Trial 9: $351,577.61\n",
      "Trial 10: $413,700.00\n",
      "\n",
      "Range in prices: $73,357.39\n"
     ]
    }
   ],
   "source": [
    "vs.PredictTrials(features, prices, fit_model, client_data)"
   ]
  },
  {
   "cell_type": "markdown",
   "metadata": {},
   "source": [
    "### Question 11 - Applicability\n",
    "\n",
    "* In a few sentences, discuss whether the constructed model should or should not be used in a real-world setting.  \n",
    "\n",
    "**Hint:** Take a look at the range in prices as calculated in the code snippet above. Some questions to answering:\n",
    "- How relevant today is data that was collected from 1978? How important is inflation?\n",
    "- Are the features present in the data sufficient to describe a home? Do you think factors like quality of apppliances in the home, square feet of the plot area, presence of pool or not etc should factor in?\n",
    "- Is the model robust enough to make consistent predictions?\n",
    "- Would data collected in an urban city like Boston be applicable in a rural city?\n",
    "- Is it fair to judge the price of an individual home based on the characteristics of the entire neighborhood?"
   ]
  },
  {
   "cell_type": "markdown",
   "metadata": {},
   "source": [
    "**Answer: **\n",
    "\n",
    "->the constructed model should not be used in real-world setting.\n",
    "\n",
    "->The data is irrelevant today as many factors such as  human development index, price of plots in the area, whether there is gym in house, proper parking space etc are also required.\n",
    "\n",
    "->Inflation is very important factor driving the price of houses, if the inflation is high today then the currency will have less purchasing power due to which the price of the house will go up.\n",
    "\n",
    "->No, the model is not so robust enough to make consistent predictions as the range in prices is 73357.39 . \n",
    "\n",
    "->no data collected in an urban city like boston would not be applicable in rural areas as the price of the above things and the LSTAT,RM and PTRATIO value will be different there.\n",
    "\n",
    "->Yes, its fair as the price of the house will resemble in features of the houses in the neighbourhood but it will not be the case always. \n"
   ]
  },
  {
   "cell_type": "markdown",
   "metadata": {},
   "source": [
    "> **Note**: Once you have completed all of the code implementations and successfully answered each question above, you may finalize your work by exporting the iPython Notebook as an HTML document. You can do this by using the menu above and navigating to  \n",
    "**File -> Download as -> HTML (.html)**. Include the finished document along with this notebook as your submission."
   ]
  }
 ],
 "metadata": {
  "anaconda-cloud": {},
  "kernelspec": {
   "display_name": "Python 3",
   "language": "python",
   "name": "python3"
  },
  "language_info": {
   "codemirror_mode": {
    "name": "ipython",
    "version": 3
   },
   "file_extension": ".py",
   "mimetype": "text/x-python",
   "name": "python",
   "nbconvert_exporter": "python",
   "pygments_lexer": "ipython3",
   "version": "3.4.3"
  }
 },
 "nbformat": 4,
 "nbformat_minor": 1
}
